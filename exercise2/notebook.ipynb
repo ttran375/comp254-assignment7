{
 "cells": [
  {
   "cell_type": "markdown",
   "metadata": {},
   "source": [
    "## Exercise 2\n",
    "\n",
    "Implement a bottom-up merge-sort for a collection of items by placing\n",
    "each item in its own queue, and then repeatedly merging pairs of queues\n",
    "until all items are sorted in ascending order within a single queue.\n",
    "**Hint:** A **queue of queues** can be very helpful.\n",
    "\n",
    "Write a Java/Python application to test your solution.\n",
    "\n",
    "(5 marks)\n"
   ]
  },
  {
   "cell_type": "code",
   "execution_count": 4,
   "metadata": {},
   "outputs": [
    {
     "name": "stdout",
     "output_type": "stream",
     "text": [
      "Original Queue:\n",
      "[34, 7, 23, 32, 5, 62]\n",
      "Sorted Queue:\n",
      "[5, 7, 23, 32, 34, 62]\n"
     ]
    }
   ],
   "source": [
    "from linked_queue import LinkedQueue\n",
    "\n",
    "def merge(S1, S2, S):\n",
    "  \"\"\"Merge two sorted queue instances S1 and S2 into empty queue S.\"\"\"\n",
    "  while not S1.is_empty() and not S2.is_empty():\n",
    "    if S1.first() < S2.first():\n",
    "      S.enqueue(S1.dequeue())\n",
    "    else:\n",
    "      S.enqueue(S2.dequeue())\n",
    "  while not S1.is_empty():            # move remaining elements of S1 to S\n",
    "    S.enqueue(S1.dequeue())\n",
    "  while not S2.is_empty():            # move remaining elements of S2 to S\n",
    "    S.enqueue(S2.dequeue())\n",
    "\n",
    "def bottom_up_merge_sort(S):\n",
    "    n = len(S)\n",
    "    if n < 2:\n",
    "        return\n",
    "    \n",
    "    queue_of_queues = LinkedQueue()\n",
    "\n",
    "    # Place each element in its own queue\n",
    "    while not S.is_empty():\n",
    "        single_queue = LinkedQueue()\n",
    "        single_queue.enqueue(S.dequeue())\n",
    "        queue_of_queues.enqueue(single_queue)\n",
    "\n",
    "    # Repeatedly merge pairs of queues\n",
    "    while len(queue_of_queues) > 1:\n",
    "        q1 = queue_of_queues.dequeue()\n",
    "        q2 = queue_of_queues.dequeue()\n",
    "        merged_queue = LinkedQueue()\n",
    "        merge(q1, q2, merged_queue)\n",
    "        queue_of_queues.enqueue(merged_queue)\n",
    "\n",
    "    # Transfer the sorted queue back to the original queue S\n",
    "    while not queue_of_queues.is_empty():\n",
    "        sorted_queue = queue_of_queues.dequeue()\n",
    "        while not sorted_queue.is_empty():\n",
    "            S.enqueue(sorted_queue.dequeue())\n",
    "\n",
    "def main():\n",
    "    data = [34, 7, 23, 32, 5, 62]\n",
    "    S = LinkedQueue()\n",
    "    \n",
    "    for item in data:\n",
    "        S.enqueue(item)\n",
    "    \n",
    "    print(\"Original Queue:\")\n",
    "    print([S.dequeue() for _ in range(len(S))])\n",
    "    \n",
    "    for item in data:\n",
    "        S.enqueue(item)\n",
    "    \n",
    "    bottom_up_merge_sort(S)\n",
    "    \n",
    "    print(\"Sorted Queue:\")\n",
    "    sorted_list = []\n",
    "    while not S.is_empty():\n",
    "        sorted_list.append(S.dequeue())\n",
    "    print(sorted_list)\n",
    "\n",
    "if __name__ == \"__main__\":\n",
    "    main()"
   ]
  }
 ],
 "metadata": {
  "kernelspec": {
   "display_name": "Python 3",
   "language": "python",
   "name": "python3"
  },
  "language_info": {
   "codemirror_mode": {
    "name": "ipython",
    "version": 3
   },
   "file_extension": ".py",
   "mimetype": "text/x-python",
   "name": "python",
   "nbconvert_exporter": "python",
   "pygments_lexer": "ipython3",
   "version": "3.10.13"
  }
 },
 "nbformat": 4,
 "nbformat_minor": 2
}
